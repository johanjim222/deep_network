{
  "nbformat": 4,
  "nbformat_minor": 0,
  "metadata": {
    "colab": {
      "name": "proyecto_datos_deep.ipynb",
      "provenance": []
    },
    "kernelspec": {
      "name": "python3",
      "display_name": "Python 3"
    },
    "language_info": {
      "name": "python"
    }
  },
  "cells": [
    {
      "cell_type": "code",
      "source": [
        "from sklearn import datasets\n",
        "\n",
        "(train_data, train_labels), (test_data, test_labels) = datasets.load_wine()"
      ],
      "metadata": {
        "colab": {
          "base_uri": "https://localhost:8080/",
          "height": 207
        },
        "id": "qv_FsegazjmZ",
        "outputId": "648883e1-b4d9-4aea-babc-66b33ef02389"
      },
      "execution_count": 53,
      "outputs": [
        {
          "output_type": "error",
          "ename": "ValueError",
          "evalue": "ignored",
          "traceback": [
            "\u001b[0;31m---------------------------------------------------------------------------\u001b[0m",
            "\u001b[0;31mValueError\u001b[0m                                Traceback (most recent call last)",
            "\u001b[0;32m<ipython-input-53-db0f838e98ab>\u001b[0m in \u001b[0;36m<module>\u001b[0;34m()\u001b[0m\n\u001b[1;32m      1\u001b[0m \u001b[0;32mfrom\u001b[0m \u001b[0msklearn\u001b[0m \u001b[0;32mimport\u001b[0m \u001b[0mdatasets\u001b[0m\u001b[0;34m\u001b[0m\u001b[0;34m\u001b[0m\u001b[0m\n\u001b[1;32m      2\u001b[0m \u001b[0;34m\u001b[0m\u001b[0m\n\u001b[0;32m----> 3\u001b[0;31m \u001b[0;34m(\u001b[0m\u001b[0mtrain_data\u001b[0m\u001b[0;34m,\u001b[0m \u001b[0mtrain_labels\u001b[0m\u001b[0;34m)\u001b[0m\u001b[0;34m,\u001b[0m \u001b[0;34m(\u001b[0m\u001b[0mtest_data\u001b[0m\u001b[0;34m,\u001b[0m \u001b[0mtest_labels\u001b[0m\u001b[0;34m)\u001b[0m \u001b[0;34m=\u001b[0m \u001b[0mdatasets\u001b[0m\u001b[0;34m.\u001b[0m\u001b[0mload_wine\u001b[0m\u001b[0;34m(\u001b[0m\u001b[0;34m)\u001b[0m\u001b[0;34m\u001b[0m\u001b[0;34m\u001b[0m\u001b[0m\n\u001b[0m",
            "\u001b[0;31mValueError\u001b[0m: too many values to unpack (expected 2)"
          ]
        }
      ]
    },
    {
      "cell_type": "code",
      "source": [
        "max([max(sequence) for sequence in train_data])"
      ],
      "metadata": {
        "colab": {
          "base_uri": "https://localhost:8080/"
        },
        "id": "VyPVxGJFzp86",
        "outputId": "3bdffb09-b3fa-4a31-93a0-d4bf4f41557a"
      },
      "execution_count": 23,
      "outputs": [
        {
          "output_type": "execute_result",
          "data": {
            "text/plain": [
              "9999"
            ]
          },
          "metadata": {},
          "execution_count": 23
        }
      ]
    },
    {
      "cell_type": "code",
      "source": [
        "import numpy as np"
      ],
      "metadata": {
        "id": "_vosfigw0P6a"
      },
      "execution_count": 22,
      "outputs": []
    },
    {
      "cell_type": "code",
      "source": [
        "import numpy as np\n",
        "\n",
        "def vectorize_sequences(sequences, dimension=10000):\n",
        "  results = np.zeros((len(sequences), dimension))\n",
        "  for i, sequence in enumerate(sequences):\n",
        "    results[i, sequence] = 1.\n",
        "  return results\n",
        "\n",
        "x_train = vectorize_sequences(train_data)\n",
        "x_test = vectorize_sequences(test_data)"
      ],
      "metadata": {
        "id": "9i3JoVkc0g9B"
      },
      "execution_count": 25,
      "outputs": []
    },
    {
      "cell_type": "code",
      "source": [
        "x_train"
      ],
      "metadata": {
        "colab": {
          "base_uri": "https://localhost:8080/"
        },
        "id": "N-6QlDEB05Zy",
        "outputId": "e7310600-4688-496e-aff6-e7600fa28732"
      },
      "execution_count": 26,
      "outputs": [
        {
          "output_type": "execute_result",
          "data": {
            "text/plain": [
              "array([[0., 1., 1., ..., 0., 0., 0.],\n",
              "       [0., 1., 1., ..., 0., 0., 0.],\n",
              "       [0., 1., 1., ..., 0., 0., 0.],\n",
              "       ...,\n",
              "       [0., 1., 1., ..., 0., 0., 0.],\n",
              "       [0., 1., 1., ..., 0., 0., 0.],\n",
              "       [0., 1., 1., ..., 0., 0., 0.]])"
            ]
          },
          "metadata": {},
          "execution_count": 26
        }
      ]
    },
    {
      "cell_type": "code",
      "source": [
        "y_train = np.asarray(train_labels).astype('float32')\n",
        "y_test = np.asarray(test_labels).astype('float32')\n"
      ],
      "metadata": {
        "id": "2xhmmsdO1Hg5"
      },
      "execution_count": 27,
      "outputs": []
    },
    {
      "cell_type": "code",
      "source": [
        "from keras import models\n",
        "from keras import layers\n",
        "model = models.Sequential()\n",
        "model.add(layers.Dense(16, activation='relu', input_shape=(10000,)))\n",
        "model.add(layers.Dense(16, activation='relu'))\n",
        "model.add(layers.Dense(1, activation='sigmoid'))"
      ],
      "metadata": {
        "id": "GpyW6DRU1OvR"
      },
      "execution_count": 28,
      "outputs": []
    },
    {
      "cell_type": "code",
      "source": [
        "from keras import optimizers\n",
        "import tensorflow as tf\n",
        "\n",
        "from keras.metrics import accuracy\n",
        "opt = tf.keras.optimizers.RMSprop(learning_rate=0.1)\n",
        "model.compile(optimizer=opt,\n",
        "              loss='binary_crossentropy',\n",
        "              metrics=[accuracy])"
      ],
      "metadata": {
        "id": "1Ty6QqDU1li5"
      },
      "execution_count": 31,
      "outputs": []
    },
    {
      "cell_type": "code",
      "source": [
        "x_val = x_train[:10000]\n",
        "partial_x_train = x_train[10000:]\n"
      ],
      "metadata": {
        "id": "Exu8DY1X2fcJ"
      },
      "execution_count": 32,
      "outputs": []
    },
    {
      "cell_type": "code",
      "source": [
        "y_val = y_train[:10000]\n",
        "partial_y_train = y_train[10000:]"
      ],
      "metadata": {
        "id": "OYBT2WnM2sdI"
      },
      "execution_count": 33,
      "outputs": []
    },
    {
      "cell_type": "code",
      "source": [
        "model.compile(optimizer='rmsprop', loss='binary_crossentropy', metrics=['acc'])\n",
        "\n",
        "history = model.fit(partial_x_train,partial_y_train,\n",
        "  epochs=20,\n",
        "  batch_size=512,\n",
        "  validation_data=(x_val, y_val))\n"
      ],
      "metadata": {
        "colab": {
          "base_uri": "https://localhost:8080/"
        },
        "id": "jGZ2B6BN2wHJ",
        "outputId": "de2aa39e-daef-415b-aa72-6ed5945d3af3"
      },
      "execution_count": 57,
      "outputs": [
        {
          "output_type": "stream",
          "name": "stdout",
          "text": [
            "Epoch 1/20\n",
            "30/30 [==============================] - 2s 51ms/step - loss: 0.0019 - acc: 0.9992 - val_loss: 1.0376 - val_acc: 0.8612\n",
            "Epoch 2/20\n",
            "30/30 [==============================] - 1s 37ms/step - loss: 1.3616e-04 - acc: 1.0000 - val_loss: 1.0579 - val_acc: 0.8603\n",
            "Epoch 3/20\n",
            "30/30 [==============================] - 1s 36ms/step - loss: 1.1010e-04 - acc: 1.0000 - val_loss: 1.1011 - val_acc: 0.8600\n",
            "Epoch 4/20\n",
            "30/30 [==============================] - 1s 36ms/step - loss: 4.8177e-04 - acc: 0.9999 - val_loss: 1.1489 - val_acc: 0.8610\n",
            "Epoch 5/20\n",
            "30/30 [==============================] - 1s 36ms/step - loss: 5.6016e-05 - acc: 1.0000 - val_loss: 1.1684 - val_acc: 0.8599\n",
            "Epoch 6/20\n",
            "30/30 [==============================] - 1s 36ms/step - loss: 4.7775e-05 - acc: 1.0000 - val_loss: 1.1989 - val_acc: 0.8586\n",
            "Epoch 7/20\n",
            "30/30 [==============================] - 1s 36ms/step - loss: 3.5598e-05 - acc: 1.0000 - val_loss: 1.2540 - val_acc: 0.8577\n",
            "Epoch 8/20\n",
            "30/30 [==============================] - 1s 36ms/step - loss: 0.0050 - acc: 0.9988 - val_loss: 1.3169 - val_acc: 0.8577\n",
            "Epoch 9/20\n",
            "30/30 [==============================] - 1s 37ms/step - loss: 2.0589e-05 - acc: 1.0000 - val_loss: 1.3131 - val_acc: 0.8565\n",
            "Epoch 10/20\n",
            "30/30 [==============================] - 1s 37ms/step - loss: 1.6955e-05 - acc: 1.0000 - val_loss: 1.3212 - val_acc: 0.8563\n",
            "Epoch 11/20\n",
            "30/30 [==============================] - 1s 38ms/step - loss: 1.4733e-05 - acc: 1.0000 - val_loss: 1.3353 - val_acc: 0.8568\n",
            "Epoch 12/20\n",
            "30/30 [==============================] - 1s 36ms/step - loss: 1.2278e-05 - acc: 1.0000 - val_loss: 1.3614 - val_acc: 0.8574\n",
            "Epoch 13/20\n",
            "30/30 [==============================] - 1s 37ms/step - loss: 8.7586e-06 - acc: 1.0000 - val_loss: 1.4390 - val_acc: 0.8565\n",
            "Epoch 14/20\n",
            "30/30 [==============================] - 1s 41ms/step - loss: 4.9505e-04 - acc: 0.9998 - val_loss: 1.4590 - val_acc: 0.8565\n",
            "Epoch 15/20\n",
            "30/30 [==============================] - 1s 43ms/step - loss: 4.9275e-06 - acc: 1.0000 - val_loss: 1.4637 - val_acc: 0.8573\n",
            "Epoch 16/20\n",
            "30/30 [==============================] - 1s 44ms/step - loss: 4.3305e-06 - acc: 1.0000 - val_loss: 1.4755 - val_acc: 0.8567\n",
            "Epoch 17/20\n",
            "30/30 [==============================] - 1s 40ms/step - loss: 3.7955e-06 - acc: 1.0000 - val_loss: 1.4964 - val_acc: 0.8559\n",
            "Epoch 18/20\n",
            "30/30 [==============================] - 1s 37ms/step - loss: 2.9866e-06 - acc: 1.0000 - val_loss: 1.5304 - val_acc: 0.8577\n",
            "Epoch 19/20\n",
            "30/30 [==============================] - 1s 37ms/step - loss: 1.1197e-04 - acc: 1.0000 - val_loss: 1.5888 - val_acc: 0.8563\n",
            "Epoch 20/20\n",
            "30/30 [==============================] - 1s 49ms/step - loss: 1.6029e-06 - acc: 1.0000 - val_loss: 1.5900 - val_acc: 0.8563\n"
          ]
        }
      ]
    },
    {
      "cell_type": "code",
      "source": [
        "import matplotlib.pyplot as plt\n",
        "\n",
        "history_dict = history.history\n",
        "acc_values = history_dict['acc']\n",
        "loss_values = history_dict['loss']\n",
        "val_loss_values = history_dict['val_loss']\n",
        "\n",
        "epochs = range(1, len(acc_values) + 1)\n",
        "\n",
        "plt.plot(epochs, loss_values, 'bo', label='Training loss')\n",
        "plt.plot(epochs, val_loss_values, 'b', label='Validation loss')\n",
        "plt.title('Training and validation loss')\n",
        "plt.xlabel('Epochs')\n",
        "plt.ylabel('Loss')\n",
        "plt.legend()\n",
        "plt.show()"
      ],
      "metadata": {
        "colab": {
          "base_uri": "https://localhost:8080/",
          "height": 295
        },
        "id": "JerL0mi_3MyY",
        "outputId": "71513503-944f-4794-cf51-3048d5cc6e94"
      },
      "execution_count": 58,
      "outputs": [
        {
          "output_type": "display_data",
          "data": {
            "text/plain": [
              "<Figure size 432x288 with 1 Axes>"
            ],
            "image/png": "[encoded data removed]"
          },
          "metadata": {
            "needs_background": "light"
          }
        }
      ]
    },
    {
      "cell_type": "code",
      "source": [
        "history_dict = history.history\n",
        "history_dict.keys()"
      ],
      "metadata": {
        "colab": {
          "base_uri": "https://localhost:8080/"
        },
        "id": "W-Wj02ur3GyY",
        "outputId": "ebf13137-64b3-42fe-c5c3-8ed58fe55030"
      },
      "execution_count": 35,
      "outputs": [
        {
          "output_type": "execute_result",
          "data": {
            "text/plain": [
              "dict_keys(['loss', 'acc', 'val_loss', 'val_acc'])"
            ]
          },
          "metadata": {},
          "execution_count": 35
        }
      ]
    },
    {
      "cell_type": "code",
      "source": [
        "import sklearn"
      ],
      "metadata": {
        "id": "3i0L_fiJEW-z"
      },
      "execution_count": 40,
      "outputs": []
    },
    {
      "cell_type": "code",
      "source": [
        "from sklearn import datasets"
      ],
      "metadata": {
        "id": "l3RO0HUSEeWa"
      },
      "execution_count": 42,
      "outputs": []
    },
    {
      "cell_type": "code",
      "source": [
        "sklearn.datasets.load_wine"
      ],
      "metadata": {
        "colab": {
          "base_uri": "https://localhost:8080/"
        },
        "id": "wFB66OeKEmvC",
        "outputId": "531d2f72-a2f9-4fbb-f8a9-e7704286fc87"
      },
      "execution_count": 43,
      "outputs": [
        {
          "output_type": "execute_result",
          "data": {
            "text/plain": [
              "<function sklearn.datasets._base.load_wine>"
            ]
          },
          "metadata": {},
          "execution_count": 43
        }
      ]
    },
    {
      "cell_type": "code",
      "source": [
        "from sklearn.datasets import load_winedata "
      ],
      "metadata": {
        "colab": {
          "base_uri": "https://localhost:8080/",
          "height": 335
        },
        "id": "6392bJlbFHvr",
        "outputId": "d1c1d2f9-b0fd-44ee-e74a-47a7ca630263"
      },
      "execution_count": 50,
      "outputs": [
        {
          "output_type": "error",
          "ename": "ImportError",
          "evalue": "ignored",
          "traceback": [
            "\u001b[0;31m---------------------------------------------------------------------------\u001b[0m",
            "\u001b[0;31mImportError\u001b[0m                               Traceback (most recent call last)",
            "\u001b[0;32m<ipython-input-50-78ba04cf9ba8>\u001b[0m in \u001b[0;36m<module>\u001b[0;34m()\u001b[0m\n\u001b[0;32m----> 1\u001b[0;31m \u001b[0;32mfrom\u001b[0m \u001b[0msklearn\u001b[0m\u001b[0;34m.\u001b[0m\u001b[0mdatasets\u001b[0m \u001b[0;32mimport\u001b[0m \u001b[0mload_winedata\u001b[0m\u001b[0;34m\u001b[0m\u001b[0;34m\u001b[0m\u001b[0m\n\u001b[0m",
            "\u001b[0;31mImportError\u001b[0m: cannot import name 'load_winedata' from 'sklearn.datasets' (/usr/local/lib/python3.7/dist-packages/sklearn/datasets/__init__.py)",
            "",
            "\u001b[0;31m---------------------------------------------------------------------------\u001b[0;32m\nNOTE: If your import is failing due to a missing package, you can\nmanually install dependencies using either !pip or !apt.\n\nTo view examples of installing some common dependencies, click the\n\"Open Examples\" button below.\n\u001b[0;31m---------------------------------------------------------------------------\u001b[0m\n"
          ],
          "errorDetails": {
            "actions": [
              {
                "action": "open_url",
                "actionText": "Open Examples",
                "url": "/notebooks/snippets/importing_libraries.ipynb"
              }
            ]
          }
        }
      ]
    }
  ]
}